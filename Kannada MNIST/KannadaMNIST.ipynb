{
 "cells": [
  {
   "cell_type": "code",
   "execution_count": 1,
   "metadata": {},
   "outputs": [],
   "source": [
    "import numpy as np\n",
    "import pandas as pd\n",
    "import matplotlib.pyplot as plt\n",
    "import torch\n",
    "import torch.nn as nn\n",
    "import torchvision\n",
    "from torchvision import transforms\n",
    "from torch.utils.data import DataLoader\n",
    "from torch.utils.data import TensorDataset\n",
    "from torch.utils.data import Dataset\n",
    "from sklearn.metrics import accuracy_score\n",
    "from tqdm.auto import tqdm"
   ]
  },
  {
   "cell_type": "code",
   "execution_count": 2,
   "metadata": {},
   "outputs": [],
   "source": [
    "train_df = pd.read_csv(\"/kaggle/input/Kannada-MNIST/train.csv\")\n",
    "test_df = pd.read_csv(\"/kaggle/input/Kannada-MNIST/Dig-MNIST.csv\")\n",
    "submission_set = pd.read_csv(\"/kaggle/input/Kannada-MNIST/test.csv\")"
   ]
  },
  {
   "cell_type": "code",
   "execution_count": 3,
   "metadata": {},
   "outputs": [],
   "source": [
    "train_image = train_df.drop(columns=[\"label\"])\n",
    "train_label = train_df[\"label\"]\n",
    "\n",
    "test_image = test_df.drop(columns=[\"label\"])\n",
    "test_label = test_df[\"label\"]\n",
    "\n",
    "prediction_image = submission_set.drop(columns=[\"id\"])"
   ]
  },
  {
   "cell_type": "code",
   "execution_count": 4,
   "metadata": {},
   "outputs": [],
   "source": [
    "from sklearn.model_selection import train_test_split\n",
    "train_image, val_image, train_label, val_label = train_test_split(train_image, train_label, test_size=0.3)"
   ]
  },
  {
   "cell_type": "code",
   "execution_count": 5,
   "metadata": {},
   "outputs": [],
   "source": [
    "train_image.reset_index(drop=True, inplace=True)\n",
    "train_label.reset_index(drop=True, inplace=True)\n",
    "\n",
    "val_image.reset_index(drop=True, inplace=True)\n",
    "val_label.reset_index(drop=True, inplace=True)\n",
    "\n",
    "test_image.reset_index(drop=True, inplace=True)\n",
    "test_label.reset_index(drop=True, inplace=True)\n",
    "\n",
    "prediction_image.reset_index(drop=True, inplace=True)"
   ]
  },
  {
   "cell_type": "code",
   "execution_count": 6,
   "metadata": {},
   "outputs": [],
   "source": [
    "IMAGE_SIZE = 28\n",
    "\n",
    "class KannadaDataset(Dataset):\n",
    "    def __init__(self, images, labels, transforms = None) -> None:\n",
    "        self.X = images\n",
    "        self.y = labels\n",
    "        self.transforms = transforms\n",
    "    \n",
    "    def __len__(self):\n",
    "        return (len(self.X))\n",
    "    \n",
    "    def __getitem__(self, i):\n",
    "        data = self.X.iloc[i,:]\n",
    "        data = np.array(data).astype(np.uint8).reshape(IMAGE_SIZE, IMAGE_SIZE, 1)\n",
    "        if self.transforms:\n",
    "            data = self.transforms(data)  \n",
    "        if self.y is not None:\n",
    "            return (data, self.y[i])\n",
    "        else:\n",
    "            return data"
   ]
  },
  {
   "cell_type": "code",
   "execution_count": 7,
   "metadata": {},
   "outputs": [],
   "source": [
    "train_transforms = transforms.Compose(([\n",
    "    transforms.ToPILImage(),\n",
    "    transforms.ToTensor(),\n",
    "]))\n",
    "\n",
    "val_transforms = transforms.Compose(([\n",
    "    transforms.ToPILImage(),\n",
    "    transforms.ToTensor(),\n",
    "]))"
   ]
  },
  {
   "cell_type": "code",
   "execution_count": 8,
   "metadata": {},
   "outputs": [],
   "source": [
    "BATCH_SIZE = 32\n",
    "\n",
    "train_dataset = KannadaDataset(train_image, train_label, train_transforms)\n",
    "\n",
    "val_dataset = KannadaDataset(val_image, val_label, val_transforms)\n",
    "\n",
    "test_dataset = KannadaDataset(test_image, test_label, val_transforms)\n",
    "\n",
    "submission_dataset = KannadaDataset(prediction_image, None, val_transforms)\n",
    "\n",
    "train_dataloader = DataLoader(train_dataset,\n",
    "                              batch_size = BATCH_SIZE,\n",
    "                              shuffle = True)\n",
    "val_dataloader = DataLoader(val_dataset,\n",
    "                            batch_size = BATCH_SIZE,\n",
    "                            shuffle = False)\n",
    "test_dataloader = DataLoader(test_dataset,\n",
    "                             batch_size = BATCH_SIZE,\n",
    "                             shuffle = False)\n",
    "prediction_dataloader = DataLoader(submission_dataset,\n",
    "                                   batch_size = BATCH_SIZE,\n",
    "                                   shuffle = False)"
   ]
  },
  {
   "cell_type": "code",
   "execution_count": 9,
   "metadata": {},
   "outputs": [
    {
     "name": "stdout",
     "output_type": "stream",
     "text": [
      "tensor([5, 3, 3, 0, 2, 6, 1, 4])\n"
     ]
    },
    {
     "data": {
      "image/png": "[encoded data removed]",
      "text/plain": [
       "<Figure size 640x480 with 1 Axes>"
      ]
     },
     "metadata": {},
     "output_type": "display_data"
    }
   ],
   "source": [
    "images, labels = next(iter(train_dataloader))\n",
    "images, labels = images[:8], labels[:8]\n",
    "plt.imshow(torchvision.utils.make_grid(images)[0,:,:], cmap=\"gray\")\n",
    "print(labels)"
   ]
  },
  {
   "cell_type": "code",
   "execution_count": 10,
   "metadata": {},
   "outputs": [],
   "source": [
    "classes = ('0', '1', '2', '3', '4', '5', '6', '7', '8', '9')"
   ]
  },
  {
   "cell_type": "code",
   "execution_count": 11,
   "metadata": {},
   "outputs": [],
   "source": [
    "class KannadaCNN(nn.Module):\n",
    "    def __init__(self, ouputs) -> None:\n",
    "        super().__init__()\n",
    "        self.layer1 = nn.Sequential(\n",
    "            nn.Conv2d(1, 64, kernel_size=3, stride=1, padding=1),\n",
    "            nn.BatchNorm2d(64),\n",
    "            nn.ReLU()            \n",
    "        )\n",
    "        self.layer2 = nn.Sequential(\n",
    "            nn.Conv2d(64, 64, kernel_size=3, stride=1, padding=1),\n",
    "            nn.BatchNorm2d(64),\n",
    "            nn.ReLU(),\n",
    "            nn.MaxPool2d(kernel_size=2, stride=2)\n",
    "        )\n",
    "        self.layer3 = nn.Sequential(\n",
    "            nn.Conv2d(64, 128, kernel_size=3, stride=1, padding=1),\n",
    "            nn.BatchNorm2d(128),\n",
    "            nn.ReLU()\n",
    "        )\n",
    "        self.layer4 = nn.Sequential(\n",
    "            nn.Conv2d(128, 128, kernel_size=3, stride=1, padding=1),\n",
    "            nn.BatchNorm2d(128),\n",
    "            nn.ReLU(),\n",
    "            nn.MaxPool2d(kernel_size=2, stride=2)\n",
    "        )\n",
    "        self.fc1 = nn.Sequential(\n",
    "            nn.Flatten(),\n",
    "            nn.Dropout(0.5),\n",
    "            nn.Linear(128*7*7, 4096),\n",
    "            nn.ReLU()\n",
    "        )\n",
    "        self.fc2 = nn.Sequential(\n",
    "            nn.Dropout(0.5),\n",
    "            nn.Linear(4096, 4096),\n",
    "            nn.ReLU()\n",
    "        )\n",
    "        self.fc3 = nn.Sequential(\n",
    "            nn.Linear(4096, ouputs)\n",
    "        )\n",
    "    \n",
    "    def forward(self, x):\n",
    "        x = self.layer1(x)\n",
    "        x = self.layer2(x)\n",
    "        x = self.layer3(x)\n",
    "        x = self.layer4(x)\n",
    "        x = self.fc1(x)\n",
    "        x = self.fc2(x)\n",
    "        x = self.fc3(x)\n",
    "        return x"
   ]
  },
  {
   "cell_type": "code",
   "execution_count": 12,
   "metadata": {},
   "outputs": [],
   "source": [
    "class EarlyStopping:\n",
    "    def __init__(self, patience=7, verbose=False, delta=0):\n",
    "        self.patience = patience\n",
    "        self.verbose = verbose\n",
    "        self.counter = 0\n",
    "        self.best_score = None\n",
    "        self.early_stop = False\n",
    "        self.val_loss_min = np.Inf\n",
    "        self.delta = delta\n",
    "\n",
    "    def __call__(self, val_loss, model):\n",
    "\n",
    "        score = -val_loss\n",
    "\n",
    "        if self.best_score is None:\n",
    "            self.best_score = score\n",
    "        elif score < self.best_score + self.delta:\n",
    "            self.counter += 1\n",
    "            print(f'EarlyStopping counter: {self.counter} out of {self.patience}')\n",
    "            if self.counter >= self.patience:\n",
    "                self.early_stop = True\n",
    "        else:\n",
    "            self.best_score = score\n",
    "            self.counter = 0"
   ]
  },
  {
   "cell_type": "code",
   "execution_count": 13,
   "metadata": {},
   "outputs": [],
   "source": [
    "device = \"cuda\" if torch.cuda.is_available() else \"cpu\""
   ]
  },
  {
   "cell_type": "code",
   "execution_count": 14,
   "metadata": {},
   "outputs": [],
   "source": [
    "def trainModel(model: torch.nn.Module, \n",
    "               dataloader: torch.utils.data.DataLoader, \n",
    "               optimizer: torch.optim.Optimizer, \n",
    "               loss_fn = torch.nn.Module, \n",
    "               device: torch.device = device):\n",
    "    model.train()\n",
    "    train_loss, train_acc = 0, 0\n",
    "    for X, y in dataloader:\n",
    "        X, y = X.to(device), y.to(device)\n",
    "        y_pred = model(X)\n",
    "        loss = loss_fn(y_pred, y)\n",
    "        train_loss += loss\n",
    "        train_acc += accuracy_score(y.cpu(), y_pred.cpu().argmax(dim=1))\n",
    "        optimizer.zero_grad()\n",
    "        loss.backward()\n",
    "        optimizer.step()\n",
    "        train_loss /= len(dataloader)\n",
    "    train_acc /= len(dataloader)\n",
    "    print(f\"Train loss: {train_loss:.4f} | Train accuracy: {train_acc:.4f}\")"
   ]
  },
  {
   "cell_type": "code",
   "execution_count": 15,
   "metadata": {},
   "outputs": [],
   "source": [
    "def valMmodel(model: torch.nn.Module,\n",
    "              dataloader: torch.utils.data.DataLoader,\n",
    "              loss_fn: torch.nn.Module,\n",
    "              device: torch.device = device):\n",
    "    val_loss, val_acc = 0, 0\n",
    "    model.eval()\n",
    "    with torch.inference_mode():\n",
    "        for X, y in dataloader:\n",
    "            X, y = X.to(device), y.to(device)\n",
    "            y_pred = model(X)\n",
    "            val_loss += loss_fn(y_pred, y)\n",
    "            val_acc += accuracy_score(y.cpu(), y_pred.cpu().argmax(dim=1))\n",
    "        val_loss /= len(dataloader)\n",
    "        val_acc /= len(dataloader)\n",
    "        print(f\"Val loss: {val_loss:.4f} | Val accuracy: {val_acc:.4f}\")\n",
    "        return val_loss"
   ]
  },
  {
   "cell_type": "code",
   "execution_count": 16,
   "metadata": {},
   "outputs": [],
   "source": [
    "def evalModel(model: torch.nn.Module, \n",
    "               dataloader: torch.utils.data.DataLoader, \n",
    "               loss_fn: torch.nn.Module,\n",
    "               device: torch.device = device):\n",
    "    loss, acc = 0, 0\n",
    "    model.eval()\n",
    "    with torch.inference_mode():\n",
    "        for X, y in dataloader:\n",
    "            X, y = X.to(device), y.to(device)\n",
    "            y_pred = model(X)\n",
    "            loss += loss_fn(y_pred, y)\n",
    "            acc += accuracy_score(y.cpu(), y_pred.cpu().argmax(dim=1)) \n",
    "        loss /= len(dataloader)\n",
    "        acc /= len(dataloader)       \n",
    "    return {\"model_name\": model.__class__.__name__, \n",
    "            \"model_loss\": loss.item(),\n",
    "            \"model_acc\": acc}"
   ]
  },
  {
   "cell_type": "code",
   "execution_count": 17,
   "metadata": {},
   "outputs": [
    {
     "name": "stdout",
     "output_type": "stream",
     "text": [
      "KannadaCNN(\n",
      "  (layer1): Sequential(\n",
      "    (0): Conv2d(1, 64, kernel_size=(3, 3), stride=(1, 1), padding=(1, 1))\n",
      "    (1): BatchNorm2d(64, eps=1e-05, momentum=0.1, affine=True, track_running_stats=True)\n",
      "    (2): ReLU()\n",
      "  )\n",
      "  (layer2): Sequential(\n",
      "    (0): Conv2d(64, 64, kernel_size=(3, 3), stride=(1, 1), padding=(1, 1))\n",
      "    (1): BatchNorm2d(64, eps=1e-05, momentum=0.1, affine=True, track_running_stats=True)\n",
      "    (2): ReLU()\n",
      "    (3): MaxPool2d(kernel_size=2, stride=2, padding=0, dilation=1, ceil_mode=False)\n",
      "  )\n",
      "  (layer3): Sequential(\n",
      "    (0): Conv2d(64, 128, kernel_size=(3, 3), stride=(1, 1), padding=(1, 1))\n",
      "    (1): BatchNorm2d(128, eps=1e-05, momentum=0.1, affine=True, track_running_stats=True)\n",
      "    (2): ReLU()\n",
      "  )\n",
      "  (layer4): Sequential(\n",
      "    (0): Conv2d(128, 128, kernel_size=(3, 3), stride=(1, 1), padding=(1, 1))\n",
      "    (1): BatchNorm2d(128, eps=1e-05, momentum=0.1, affine=True, track_running_stats=True)\n",
      "    (2): ReLU()\n",
      "    (3): MaxPool2d(kernel_size=2, stride=2, padding=0, dilation=1, ceil_mode=False)\n",
      "  )\n",
      "  (fc1): Sequential(\n",
      "    (0): Flatten(start_dim=1, end_dim=-1)\n",
      "    (1): Dropout(p=0.5, inplace=False)\n",
      "    (2): Linear(in_features=6272, out_features=4096, bias=True)\n",
      "    (3): ReLU()\n",
      "  )\n",
      "  (fc2): Sequential(\n",
      "    (0): Dropout(p=0.5, inplace=False)\n",
      "    (1): Linear(in_features=4096, out_features=4096, bias=True)\n",
      "    (2): ReLU()\n",
      "  )\n",
      "  (fc3): Sequential(\n",
      "    (0): Linear(in_features=4096, out_features=10, bias=True)\n",
      "  )\n",
      ")\n"
     ]
    }
   ],
   "source": [
    "model = KannadaCNN(len(classes)).to(device)\n",
    "print(model)"
   ]
  },
  {
   "cell_type": "code",
   "execution_count": 18,
   "metadata": {},
   "outputs": [],
   "source": [
    "loss_fn = nn.CrossEntropyLoss()\n",
    "optimizer = torch.optim.Adam(model.parameters(), lr=0.01)"
   ]
  },
  {
   "cell_type": "code",
   "execution_count": 19,
   "metadata": {},
   "outputs": [
    {
     "data": {
      "application/vnd.jupyter.widget-view+json": {
       "model_id": "a31e9e581e40496c92c837d3786fee4d",
       "version_major": 2,
       "version_minor": 0
      },
      "text/plain": [
       "  0%|          | 0/50 [00:00<?, ?it/s]"
      ]
     },
     "metadata": {},
     "output_type": "display_data"
    },
    {
     "name": "stdout",
     "output_type": "stream",
     "text": [
      "Train loss: 0.0005 | Train accuracy: 0.5296\n",
      "Val loss: 0.7115 | Val accuracy: 0.7922\n",
      "Train loss: 0.0007 | Train accuracy: 0.6162\n",
      "Val loss: 0.6867 | Val accuracy: 0.7225\n",
      "Train loss: 0.0011 | Train accuracy: 0.6245\n",
      "Val loss: 0.6794 | Val accuracy: 0.7827\n",
      "Train loss: 0.0001 | Train accuracy: 0.8487\n",
      "Val loss: 0.0938 | Val accuracy: 0.9738\n",
      "Train loss: 0.0003 | Train accuracy: 0.9241\n",
      "Val loss: 0.0908 | Val accuracy: 0.9742\n",
      "Train loss: 0.0001 | Train accuracy: 0.9394\n",
      "Val loss: 0.0634 | Val accuracy: 0.9847\n",
      "Train loss: 0.0000 | Train accuracy: 0.9405\n",
      "Val loss: 0.0564 | Val accuracy: 0.9855\n",
      "Train loss: 0.0001 | Train accuracy: 0.9477\n",
      "Val loss: 0.0545 | Val accuracy: 0.9858\n",
      "Train loss: 0.0000 | Train accuracy: 0.9448\n",
      "Val loss: 0.0486 | Val accuracy: 0.9860\n",
      "Train loss: 0.0000 | Train accuracy: 0.9433\n",
      "Val loss: 0.0548 | Val accuracy: 0.9847\n",
      "EarlyStopping counter: 1 out of 5\n",
      "Train loss: 0.0001 | Train accuracy: 0.9479\n",
      "Val loss: 0.0504 | Val accuracy: 0.9860\n",
      "EarlyStopping counter: 2 out of 5\n",
      "Train loss: 0.0000 | Train accuracy: 0.9444\n",
      "Val loss: 0.0732 | Val accuracy: 0.9791\n",
      "EarlyStopping counter: 3 out of 5\n",
      "Train loss: 0.0001 | Train accuracy: 0.9446\n",
      "Val loss: 0.0425 | Val accuracy: 0.9893\n",
      "Train loss: 0.0001 | Train accuracy: 0.9278\n",
      "Val loss: 0.0538 | Val accuracy: 0.9855\n",
      "EarlyStopping counter: 1 out of 5\n",
      "Train loss: 0.0002 | Train accuracy: 0.9378\n",
      "Val loss: 0.0489 | Val accuracy: 0.9867\n",
      "EarlyStopping counter: 2 out of 5\n",
      "Train loss: 0.0002 | Train accuracy: 0.9404\n",
      "Val loss: 0.0487 | Val accuracy: 0.9861\n",
      "EarlyStopping counter: 3 out of 5\n",
      "Train loss: 0.0000 | Train accuracy: 0.9437\n",
      "Val loss: 0.0513 | Val accuracy: 0.9866\n",
      "EarlyStopping counter: 4 out of 5\n",
      "Train loss: 0.0002 | Train accuracy: 0.9423\n",
      "Val loss: 0.0606 | Val accuracy: 0.9855\n",
      "EarlyStopping counter: 5 out of 5\n"
     ]
    }
   ],
   "source": [
    "torch.manual_seed(0)\n",
    "EPOCHS = 50\n",
    "early_stopping = EarlyStopping(patience=5, verbose=False, delta=0.001)\n",
    "for epoch in tqdm(range(EPOCHS)):\n",
    "    trainModel(model, train_dataloader, optimizer, loss_fn, device)\n",
    "    val_loss = valMmodel(model, val_dataloader, loss_fn, device)\n",
    "    early_stopping(val_loss, model)\n",
    "    if early_stopping.early_stop:\n",
    "        break"
   ]
  },
  {
   "cell_type": "code",
   "execution_count": 20,
   "metadata": {},
   "outputs": [
    {
     "name": "stdout",
     "output_type": "stream",
     "text": [
      "{'model_name': 'KannadaCNN', 'model_loss': 0.8797635436058044, 'model_acc': 0.77666015625}\n"
     ]
    }
   ],
   "source": [
    "model_results = evalModel(model, test_dataloader, loss_fn, device)\n",
    "print(model_results)"
   ]
  },
  {
   "cell_type": "code",
   "execution_count": 21,
   "metadata": {},
   "outputs": [
    {
     "data": {
      "text/html": [
       "<div>\n",
       "<style scoped>\n",
       "    .dataframe tbody tr th:only-of-type {\n",
       "        vertical-align: middle;\n",
       "    }\n",
       "\n",
       "    .dataframe tbody tr th {\n",
       "        vertical-align: top;\n",
       "    }\n",
       "\n",
       "    .dataframe thead th {\n",
       "        text-align: right;\n",
       "    }\n",
       "</style>\n",
       "<table border=\"1\" class=\"dataframe\">\n",
       "  <thead>\n",
       "    <tr style=\"text-align: right;\">\n",
       "      <th></th>\n",
       "      <th>id</th>\n",
       "      <th>label</th>\n",
       "    </tr>\n",
       "  </thead>\n",
       "  <tbody>\n",
       "    <tr>\n",
       "      <th>0</th>\n",
       "      <td>0</td>\n",
       "      <td>5</td>\n",
       "    </tr>\n",
       "    <tr>\n",
       "      <th>1</th>\n",
       "      <td>1</td>\n",
       "      <td>5</td>\n",
       "    </tr>\n",
       "    <tr>\n",
       "      <th>2</th>\n",
       "      <td>2</td>\n",
       "      <td>5</td>\n",
       "    </tr>\n",
       "    <tr>\n",
       "      <th>3</th>\n",
       "      <td>3</td>\n",
       "      <td>5</td>\n",
       "    </tr>\n",
       "    <tr>\n",
       "      <th>4</th>\n",
       "      <td>4</td>\n",
       "      <td>5</td>\n",
       "    </tr>\n",
       "  </tbody>\n",
       "</table>\n",
       "</div>"
      ],
      "text/plain": [
       "   id  label\n",
       "0   0      5\n",
       "1   1      5\n",
       "2   2      5\n",
       "3   3      5\n",
       "4   4      5"
      ]
     },
     "execution_count": 21,
     "metadata": {},
     "output_type": "execute_result"
    }
   ],
   "source": [
    "submission = pd.read_csv(\"/kaggle/input/Kannada-MNIST/sample_submission.csv\")\n",
    "submission.head()"
   ]
  },
  {
   "cell_type": "code",
   "execution_count": 32,
   "metadata": {},
   "outputs": [],
   "source": [
    "preds = torch.LongTensor().to(device)\n",
    "model.eval()\n",
    "with torch.inference_mode():\n",
    "    for X in prediction_dataloader:\n",
    "        X= X.to(device)\n",
    "        y_pred = model(X)\n",
    "        preds = torch.cat((preds, y_pred.argmax(dim=1)), dim=0)\n",
    "submission[\"label\"] = preds.cpu().numpy()\n",
    "submission.to_csv(\"submission.csv\", index=False)"
   ]
  }
 ],
 "metadata": {
  "kernelspec": {
   "display_name": "base",
   "language": "python",
   "name": "python3"
  },
  "language_info": {
   "codemirror_mode": {
    "name": "ipython",
    "version": 3
   },
   "file_extension": ".py",
   "mimetype": "text/x-python",
   "name": "python",
   "nbconvert_exporter": "python",
   "pygments_lexer": "ipython3",
   "version": "3.10.9"
  },
  "orig_nbformat": 4
 },
 "nbformat": 4,
 "nbformat_minor": 2
}
